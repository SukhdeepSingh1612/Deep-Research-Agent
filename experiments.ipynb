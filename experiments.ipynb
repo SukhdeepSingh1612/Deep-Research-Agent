{
 "cells": [
  {
   "cell_type": "code",
   "execution_count": 5,
   "metadata": {},
   "outputs": [],
   "source": [
    "from agents import Agent, WebSearchTool, trace, Runner, gen_trace_id, function_tool\n",
    "from agents.model_settings import ModelSettings\n",
    "from pydantic import BaseModel, Field\n",
    "from dotenv import load_dotenv\n",
    "import asyncio\n",
    "import sendgrid\n",
    "import os\n",
    "from sendgrid.helpers.mail import Mail, Email, To, Content\n",
    "from typing import Dict\n",
    "from IPython.display import display, Markdown\n",
    "from typing import List"
   ]
  },
  {
   "cell_type": "code",
   "execution_count": 2,
   "metadata": {},
   "outputs": [
    {
     "data": {
      "text/plain": [
       "True"
      ]
     },
     "execution_count": 2,
     "metadata": {},
     "output_type": "execute_result"
    }
   ],
   "source": [
    "load_dotenv(override=True)"
   ]
  },
  {
   "cell_type": "code",
   "execution_count": 3,
   "metadata": {},
   "outputs": [],
   "source": [
    "INSTRUCTIONS = \"You are a research assistant. Given a search term, you search the web for that term and \\\n",
    "produce a concise summary of the results. The summary must 2-3 paragraphs and less than 300 \\\n",
    "words. Capture the main points. Write succintly, no need to have complete sentences or good \\\n",
    "grammar. This will be consumed by someone synthesizing a report, so it's vital you capture the \\\n",
    "essence and ignore any fluff. Do not include any additional commentary other than the summary itself.\"\n",
    "\n",
    "search_agent = Agent(\n",
    "    name=\"Search agent\",\n",
    "    instructions=INSTRUCTIONS,\n",
    "    tools=[WebSearchTool(search_context_size=\"low\")],\n",
    "    model=\"gpt-4o-mini\",\n",
    "    model_settings=ModelSettings(tool_choice=\"required\"),\n",
    ")"
   ]
  },
  {
   "cell_type": "code",
   "execution_count": 30,
   "metadata": {},
   "outputs": [],
   "source": [
    "number_of_searches = 3\n",
    "\n",
    "class WebSearchItem(BaseModel):\n",
    "    reason: str = Field(description=\"The reason for the search\")\n",
    "    query: str = Field(description=\"The query to search for\")\n",
    "\n",
    "class WebSearchPlan(BaseModel):\n",
    "    searches: list[WebSearchItem] = Field(description=\"The list of search items\")\n"
   ]
  },
  {
   "cell_type": "code",
   "execution_count": 31,
   "metadata": {},
   "outputs": [],
   "source": [
    "planner_instructions = f\"You are a helpful research assistant. Given a query, come up with a set of web searches \\\n",
    "to perform to best answer the query. Output {number_of_searches} terms to query for.\"\n"
   ]
  },
  {
   "cell_type": "code",
   "execution_count": 32,
   "metadata": {},
   "outputs": [],
   "source": [
    "planner_agent = Agent(name=\"plannerAgent\", instructions=planner_instructions,model=\"gpt-4o-mini\", output_type=WebSearchPlan)"
   ]
  },
  {
   "cell_type": "code",
   "execution_count": 33,
   "metadata": {},
   "outputs": [],
   "source": [
    "@function_tool\n",
    "def send_email(subject: str, html_body: str) -> Dict[str, str]:\n",
    "    \"\"\" Send out an email with the given subject and HTML body \"\"\"\n",
    "    sg = sendgrid.SendGridAPIClient(api_key=os.environ.get('SENDGRID_API_KEY'))\n",
    "    from_email = Email(\"sukhdeepnarulasingh@gmail.com\") \n",
    "    to_email = To(\"sukhdeepsingh1612@gmail.com\") \n",
    "    content = Content(\"text/html\", html_body)\n",
    "    mail = Mail(from_email, to_email, subject, content).get()\n",
    "    response = sg.client.mail.send.post(request_body=mail)\n",
    "    return {\"status\": \"success\"}"
   ]
  },
  {
   "cell_type": "code",
   "execution_count": 34,
   "metadata": {},
   "outputs": [],
   "source": [
    "email_instructions = \"\"\"You are able to send a nicely formatted HTML email based on a detailed report.\n",
    "You will be provided with a detailed report. You should use your tool to send one email, providing the \n",
    "report converted into clean, well presented HTML with an appropriate subject line.\"\"\"\n",
    "\n",
    "email_agent = Agent(\n",
    "    name=\"emailer agent\",\n",
    "    instructions=email_instructions,\n",
    "    tools=[send_email],\n",
    "    model=\"gpt-4o-mini\"\n",
    "    \n",
    ")"
   ]
  },
  {
   "cell_type": "code",
   "execution_count": 12,
   "metadata": {},
   "outputs": [],
   "source": [
    "writer_instructions = ( \"You are a senior researcher tasked with writing a cohesive report for a research query. \"\n",
    "    \"You will be provided with the original query, and some initial research done by a research assistant.\\n\"\n",
    "    \"You should first come up with an outline for the report that describes the structure and \"\n",
    "    \"flow of the report. Then, generate the report and return that as your final output.\\n\"\n",
    "    \"The final output should be in markdown format, and it should be lengthy and detailed. Aim \"\n",
    "    \"for 5-10 pages of content, at least 1000 words.\"\n",
    ")\n",
    "\n",
    "class Report_Data(BaseModel):\n",
    "    short_summary: str = Field(description=\"A short summary of the report\")\n",
    "\n",
    "    markdown_report: str = Field(description=\"The report in markdown format\")\n",
    "\n",
    "    follow_up_questions: List[str] = Field(description=\"A list of follow-up questions that the reader may have\")\n",
    "\n",
    "writer_agent = Agent(\n",
    "    name=\"Writer agent\",\n",
    "    instructions=writer_instructions,\n",
    "    model=\"gpt-4o-mini\",\n",
    "    output_type=Report_Data,\n",
    ")"
   ]
  },
  {
   "cell_type": "code",
   "execution_count": 37,
   "metadata": {},
   "outputs": [],
   "source": [
    "async def plan_searches(query: str):\n",
    "    print(f\"Planning searches for query: {query}\")\n",
    "    result = await Runner.run(planner_agent, f\"Query :{query}\")\n",
    "    return result.final_output\n",
    "\n",
    "async def perform_searches(search_plan : WebSearchPlan):\n",
    "    print(f\"Performing searches for query: {search_plan}\")\n",
    "    tasks = [asyncio.create_task(search(item)) for item in search_plan.searches]\n",
    "    results = await asyncio.gather(*tasks)\n",
    "    print(\"Finished searches\")\n",
    "    return results\n",
    "\n",
    "async def search(item: WebSearchItem):\n",
    "    print(f\"Searching for query: {item.query}\")\n",
    "    input = f\"Search term : {item.query}\\n Reason for search: {item.reason}\"\n",
    "    result = await Runner.run(search_agent, input)\n",
    "    return result.final_output"
   ]
  },
  {
   "cell_type": "code",
   "execution_count": 38,
   "metadata": {},
   "outputs": [],
   "source": [
    "async def write_report(query: str, search_results: List[str]):\n",
    "    print(f\"Writing report for query: {query}\")\n",
    "    input = f\"Query: {query}\\nSearch results: {search_results}\"\n",
    "    resullt = await Runner.run(writer_agent, input)\n",
    "    return resullt.final_output\n",
    "\n",
    "async def send_email(report: Report_Data):\n",
    "    print(f\"Sending email for report: {report}\")\n",
    "    input = f\"Report: {report.markdown_report}\"\n",
    "    result = await Runner.run(email_agent, input)\n",
    "    print(\"Email sent\")\n"
   ]
  },
  {
   "cell_type": "code",
   "execution_count": 39,
   "metadata": {},
   "outputs": [
    {
     "name": "stdout",
     "output_type": "stream",
     "text": [
      "Planning searches for query: Best car to buy under 10 lakhs in India\n",
      "Performing searches for query: searches=[WebSearchItem(reason='To find overall best cars in India under 10 lakhs based on reviews and expert opinions.', query='best car under 10 lakhs India 2023 review'), WebSearchItem(reason='To gather consumer feedback and popular choices for cars within the budget.', query='most popular cars under 10 lakhs India 2023'), WebSearchItem(reason='To check for recent models and their specifications along with pricing.', query='latest cars under 10 lakhs India 2023')]\n",
      "Searching for query: best car under 10 lakhs India 2023 review\n",
      "Searching for query: most popular cars under 10 lakhs India 2023\n",
      "Searching for query: latest cars under 10 lakhs India 2023\n",
      "Finished searches\n",
      "Writing report for query: Best car to buy under 10 lakhs in India\n",
      "Sending email for report: short_summary='This report evaluates the best cars to buy in India under ₹10 lakh in 2023, providing details on performance, features, and value propositions of a variety of models, catering to diverse consumer preferences.' markdown_report='# Best Cars to Buy Under ₹10 Lakhs in India (2023)\\n\\nIn recent years, the Indian automotive market has seen robust competition, especially in the affordable segment. With a budget of ₹10 lakhs, consumers can choose from a variety of models that offer a blend of performance, safety, and features. This report presents a detailed analysis of the best cars available under ₹10 lakhs in 2023, focusing on performance specifications, features, safety ratings, and value for money.\\n\\n## Table of Contents\\n1. **Introduction**  \\n2. **Market Overview**  \\n3. **Top Picks for 2023**  \\n   - 3.1 **Mahindra XUV300**  \\n   - 3.2 **Maruti Suzuki Baleno**  \\n   - 3.3 **Tata Punch**  \\n   - 3.4 **Maruti Suzuki Dzire**  \\n   - 3.5 **Tata Tiago**  \\n   - 3.6 **Citroën C3**  \\n   - 3.7 **Maruti Suzuki Swift**  \\n   - 3.8 **Hyundai Exter**  \\n4. **Comparison of Selected Models**  \\n5. **Conclusion**  \\n6. **Follow-up Questions**  \\n\\n## 1. Introduction  \\nBuying a car in India is a significant investment, and consumers are increasingly looking for value-driven choices. The car market under ₹10 lakh offers a plethora of options catering to different needs and preferences. This report aims to assist potential buyers in making informed decisions by highlighting standout models for 2023.\\n\\n## 2. Market Overview  \\nThe Indian automotive sector has evolved, with numerous brands providing technologically advanced and value-packed vehicles. The government’s push for electric vehicles and sustainable practices has also influenced choices. With the growing need for family cars and compact SUVs, consumers are more inclined towards options that offer utility without compromising on safety and comfort.\\n\\n## 3. Top Picks for 2023  \\nThis section highlights well-reviewed cars under ₹10 lakhs, detailing the unique specifications that make each one a noteworthy choice in 2023.\\n\\n### 3.1 Mahindra XUV300  \\n- **Price**: Under ₹10 lakh  \\n- **Engine**: 1.2L turbo petrol, 200 Nm torque  \\n- **Fuel Efficiency**: Competitive in the segment  \\n- **Unique Features**: Dual-zone climate control, panoramic sunroof, 10.25-inch touchscreen  \\n- **Safety Rating**: 5-star Bharat NCAP rating  \\n\\nThe Mahindra XUV300 offers an excellent mix of features, safety, and performance, making it a strong contender for buyers seeking an SUV experience at a reasonable price.\\n\\n### 3.2 Maruti Suzuki Baleno  \\n- **Price**: Starting at ₹6.70 lakh  \\n- **Engine**: 1.2L petrol engine, 88.5 bhp  \\n- **Fuel Efficiency**: 22.35 km/l (manual), 22.94 km/l (AMT)  \\n- **Unique Features**: Spacious interior, advanced infotainment system  \\n\\nThe Baleno is well-loved for its spacious cabin and reliability. It remains a popular choice among families and urban commuters due to its fuel efficiency and stylish design.\\n\\n### 3.3 Tata Punch  \\n- **Price**: ₹6.00 lakh to ₹9.54 lakh  \\n- **Engine**: 1.2L petrol engine, high torque  \\n- **Unique Features**: SUV-like design with high ground clearance, 7-inch touchscreen  \\n- **Safety Rating**: 5-star Global NCAP  \\n\\nTata Punch hits the sweet spot between compact sizing and SUV appeal, making it perfect for city driving as well as off-road adventures.\\n\\n### 3.4 Maruti Suzuki Dzire  \\n- **Price**: ₹6.83 lakh to ₹9.20 lakh  \\n- **Engine**: 1.2L petrol with 90 PS  \\n- **Fuel Efficiency**: Up to 24.12 km/l (AMT)  \\n- **Unique Features**: Spacious cabin, reliable performance  \\n\\nThe Dzire offers a blend of comfort and efficiency, making it a great option for daily commutes and family use.\\n\\n### 3.5 Tata Tiago  \\n- **Price**: ₹5.45 lakh to ₹7.90 lakh  \\n- **Engine**: 1.2L petrol engine, 86 PS  \\n- **Safety**: 4-star safety rating from Global NCAP  \\n\\nTiago is an affordable hatchback that doesn’t compromise on safety or performance, making it suitable for young professionals and first-time buyers.\\n\\n### 3.6 Citroën C3  \\n- **Price**: Under ₹10 lakh  \\n- **Features**: Unique styling, ample cabin space  \\n- **Ride Comfort**: Smooth driving experience  \\n\\nOffering an attractive design and practical features, the Citroën C3 is a stylish choice for those looking for something different.\\n\\n### 3.7 Maruti Suzuki Swift  \\n- **Price**: ₹6.49 lakh to ₹9.64 lakh  \\n- **Engine**: 1.2L petrol, delivering great fuel efficiency  \\n- **Unique Features**: Sporty design, responsive handling  \\n\\nThe Swift is a favorite among youth for its sporty design and mix of performance and practicality, offering a fun driving experience.\\n\\n### 3.8 Hyundai Exter  \\n- **Price**: Starting at ₹6.00 lakh  \\n- **Engine**: 1.2L Kappa petrol, 81.8 bhp output  \\n- **Unique Features**: Modern design, good ground clearance  \\n\\nHyundai Exter provides a compact SUV feel with practical daily usability, making it a clever choice for city dwellers.\\n\\n## 4. Comparison of Selected Models  \\n| Model              | Price Range (₹) | Engine Type                 | Mileage (km/l)   | Safety Rating          |\\n|--------------------|-----------------|----------------------------|-------------------|------------------------|\\n| Mahindra XUV300    | <10 lakh        | 1.2L Turbo Petrol          | -                 | 5-star (Bharat NCAP)   |\\n| Maruti Suzuki Baleno| 6.70 - 9.90 lakh | 1.2L Petrol                | 22.35 - 22.94     | -                      |\\n| Tata Punch         | 6.00 - 9.54 lakh | 1.2L Petrol                | 18.8              | 5-star (Global NCAP)   |\\n| Maruti Suzuki Dzire | 6.83 - 9.20 lakh | 1.2L Petrol                | 24.12             | -                      |\\n| Tata Tiago         | 5.45 - 7.90 lakh | 1.2L Petrol                | ~20               | 4-star (Global NCAP)   |\\n| Citroën C3        | <10 lakh        | Multiple Options           | -                 | -                      |\\n| Maruti Suzuki Swift | 6.49 - 9.64 lakh | 1.2L Petrol                | 22.38 - 22.56     | -                      |\\n| Hyundai Exter      | 6.00 - 8.75 lakh | 1.2L Kappa Petrol          | 19.2 - 19.4       | -                      |\\n\\n## 5. Conclusion  \\nSelecting the right car under ₹10 lakh in India involves understanding individual needs, ranging from family space to sporty performance. The models highlighted above balance various aspects well and provide ample options for consumers in 2023. Evaluating specifications such as engine performance, safety ratings, and pricing can lead to making a confident purchase.\\n\\n## 6. Follow-up Questions  \\n- What financing options are available for purchasing cars in this segment?  \\n- How does after-sales service and maintenance vary among these brands?  \\n- What are the insurance costs for these cars?  \\n- Are there particular models with better resale value?  \\n- How do these cars perform in terms of long-term reliability?  \\n\\nThis concise overview should provide potential buyers with valuable insights into the leading contenders in the under ₹10 lakh segment of the Indian car market for 2023, aiding them in making an informed decision.' follow_up_questions=['What financing options are available for purchasing cars in this segment?', 'How does after-sales service and maintenance vary among these brands?', 'What are the insurance costs for these cars?', 'Are there particular models with better resale value?', 'How do these cars perform in terms of long-term reliability?']\n",
      "Email sent\n",
      "----Done----\n"
     ]
    }
   ],
   "source": [
    "query = \"Best car to buy under 10 lakhs in India\"\n",
    "\n",
    "search_plan = await plan_searches(query)\n",
    "search_results = await perform_searches(search_plan)\n",
    "report = await write_report(query, search_results)\n",
    "await send_email(report)\n",
    "print(\"----Done----\")"
   ]
  },
  {
   "cell_type": "code",
   "execution_count": null,
   "metadata": {},
   "outputs": [],
   "source": []
  }
 ],
 "metadata": {
  "kernelspec": {
   "display_name": "Python 3",
   "language": "python",
   "name": "python3"
  },
  "language_info": {
   "codemirror_mode": {
    "name": "ipython",
    "version": 3
   },
   "file_extension": ".py",
   "mimetype": "text/x-python",
   "name": "python",
   "nbconvert_exporter": "python",
   "pygments_lexer": "ipython3",
   "version": "3.12.11"
  }
 },
 "nbformat": 4,
 "nbformat_minor": 2
}
